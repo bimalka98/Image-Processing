{
 "cells": [
  {
   "cell_type": "code",
   "execution_count": null,
   "metadata": {},
   "outputs": [],
   "source": [
    "# iniatialize the directories and global variables\n",
    "import os\n",
    "\n",
    "SRC_DIR = os.getcwd()\n",
    "\n",
    "# get the parent directory\n",
    "PARENT_DIR = os.path.dirname(SRC_DIR)\n",
    "\n",
    "# images directory\n",
    "IMG_DIR = os.path.join(PARENT_DIR, 'images')\n",
    "IP_IMG_DIR = os.path.join(IMG_DIR, 'input')\n",
    "OP_IMG_DIR = os.path.join(IMG_DIR, 'output')"
   ]
  },
  {
   "cell_type": "code",
   "execution_count": null,
   "metadata": {},
   "outputs": [],
   "source": [
    "# import the required libraries for the project\n",
    "%matplotlib inline\n",
    "import numpy as np\n",
    "import cv2 as cv\n",
    "import matplotlib.pyplot as plt"
   ]
  },
  {
   "cell_type": "code",
   "execution_count": null,
   "metadata": {},
   "outputs": [],
   "source": [
    "orgimg = cv.imread(IP_IMG_DIR + '/mora.jpg', cv.IMREAD_GRAYSCALE)\n",
    "plt.imshow(orgimg, cmap='gray')"
   ]
  },
  {
   "cell_type": "code",
   "execution_count": null,
   "metadata": {},
   "outputs": [],
   "source": [
    "# decide the best threshold value\n",
    "\n",
    "# otsu thresholding\n",
    "ret, otsuimg = cv.threshold(orgimg, 0, 255, cv.THRESH_BINARY + cv.THRESH_OTSU)\n",
    "plt.imshow(otsuimg, cmap='gray')"
   ]
  },
  {
   "cell_type": "code",
   "execution_count": null,
   "metadata": {},
   "outputs": [],
   "source": [
    "# binary inverse thresholding\n",
    "ret, bininvimg = cv.threshold(otsuimg, 127, 255, cv.THRESH_BINARY_INV)\n",
    "plt.imshow(bininvimg, cmap='gray')"
   ]
  },
  {
   "cell_type": "code",
   "execution_count": null,
   "metadata": {},
   "outputs": [],
   "source": [
    "# Morphological transformation:  closing: Dilation followed by Erosion\n",
    "ksize = 5\n",
    "kernel = cv.getStructuringElement(cv.MORPH_RECT,(ksize,ksize))\n",
    "opening  = cv.morphologyEx(bininvimg, cv.MORPH_OPEN, kernel, iterations=4) # remove white noise in background\n",
    "closing= cv.morphologyEx(opening, cv.MORPH_CLOSE, kernel, iterations=4) # remove black noise in foreground\n",
    "plt.imshow(closing, cmap='gray')\n",
    "\n",
    "# save high resolution images\n",
    "cv.imwrite(OP_IMG_DIR + '/mora_final.jpg', closing)"
   ]
  },
  {
   "cell_type": "code",
   "execution_count": null,
   "metadata": {},
   "outputs": [],
   "source": [
    "# cv.RETR_EXTERNAL retrieve only the extreme outer contours\n",
    "contours, _ = cv.findContours(closing, cv.RETR_EXTERNAL, cv.CHAIN_APPROX_SIMPLE)\n",
    "\n",
    "# Visualizing contours (-1 argument to plot all the contours)\n",
    "im_contours = np.zeros((closing.shape[0],closing.shape[1],3), np.uint8)\n",
    "conts = cv.drawContours(im_contours, contours, -1, (0,255,0), 3).astype('uint8')\n",
    "plt.imshow(conts), plt.show()\n",
    "\n",
    "# save high resolution image\n",
    "cv.imwrite(OP_IMG_DIR + '/contours_external.jpg', conts)"
   ]
  },
  {
   "cell_type": "code",
   "execution_count": null,
   "metadata": {},
   "outputs": [],
   "source": [
    "# cv.RETR_CCOMP retrieves all of the contours and organizes them into a two-level hierarchy.\n",
    "contours, _ = cv.findContours(closing, cv.RETR_CCOMP, cv.CHAIN_APPROX_SIMPLE)\n",
    "\n",
    "# Visualizing contours (-1 argument to plot all the contours)\n",
    "im_contours = np.zeros((closing.shape[0],closing.shape[1],3), np.uint8)\n",
    "conts = cv.drawContours(im_contours, contours, -1, (0,255,0), 3).astype('uint8')\n",
    "plt.imshow(conts), plt.show()\n",
    "\n",
    "# save high resolution image\n",
    "cv.imwrite(OP_IMG_DIR + '/contours_ccomp.jpg', conts)"
   ]
  },
  {
   "cell_type": "code",
   "execution_count": null,
   "metadata": {},
   "outputs": [],
   "source": []
  }
 ],
 "metadata": {
  "kernelspec": {
   "display_name": "cv",
   "language": "python",
   "name": "python3"
  },
  "language_info": {
   "codemirror_mode": {
    "name": "ipython",
    "version": 3
   },
   "file_extension": ".py",
   "mimetype": "text/x-python",
   "name": "python",
   "nbconvert_exporter": "python",
   "pygments_lexer": "ipython3",
   "version": "3.12.0"
  }
 },
 "nbformat": 4,
 "nbformat_minor": 2
}
